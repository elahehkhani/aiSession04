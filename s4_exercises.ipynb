{
  "cells": [
    {
      "cell_type": "markdown",
      "metadata": {
        "id": "YluThavSflVm"
      },
      "source": []
    },
    {
      "cell_type": "markdown",
      "metadata": {
        "id": "THuSWSyZh3Gl"
      },
      "source": [
        "### Exercise: Load and Preview the California Housing Dataset\n",
        "\n",
        "**Instructions:**\n",
        "\n",
        "1. Read the dataset file `california_housing_train.csv` using the `pandas` library.\n",
        "2. Print the first 5 rows of the dataset.\n",
        "\n",
        "**Expected Output:**\n",
        "\n",
        "The first 5 rows of the dataset should be displayed, showing columns like `longitude`, `latitude`, `housing_median_age`, etc.\n"
      ]
    },
    {
      "cell_type": "code",
      "execution_count": 99,
      "metadata": {
        "colab": {
          "base_uri": "https://localhost:8080/",
          "height": 206
        },
        "id": "z8icG7raSQSB",
        "outputId": "460f1c0c-5dbe-4722-fe25-3a6b5876e7ce"
      },
      "outputs": [
        {
          "data": {
            "application/vnd.google.colaboratory.intrinsic+json": {
              "summary": "{\n  \"name\": \"df_housing\",\n  \"rows\": 17000,\n  \"fields\": [\n    {\n      \"column\": \"longitude\",\n      \"properties\": {\n        \"dtype\": \"number\",\n        \"std\": 2.005166408426173,\n        \"min\": -124.35,\n        \"max\": -114.31,\n        \"num_unique_values\": 827,\n        \"samples\": [\n          -117.56,\n          -123.32,\n          -118.26\n        ],\n        \"semantic_type\": \"\",\n        \"description\": \"\"\n      }\n    },\n    {\n      \"column\": \"latitude\",\n      \"properties\": {\n        \"dtype\": \"number\",\n        \"std\": 2.1373397946570734,\n        \"min\": 32.54,\n        \"max\": 41.95,\n        \"num_unique_values\": 840,\n        \"samples\": [\n          38.44,\n          40.79,\n          32.69\n        ],\n        \"semantic_type\": \"\",\n        \"description\": \"\"\n      }\n    },\n    {\n      \"column\": \"housing_median_age\",\n      \"properties\": {\n        \"dtype\": \"number\",\n        \"std\": 12.586936981660335,\n        \"min\": 1.0,\n        \"max\": 52.0,\n        \"num_unique_values\": 52,\n        \"samples\": [\n          23.0,\n          52.0,\n          47.0\n        ],\n        \"semantic_type\": \"\",\n        \"description\": \"\"\n      }\n    },\n    {\n      \"column\": \"total_rooms\",\n      \"properties\": {\n        \"dtype\": \"number\",\n        \"std\": 2179.947071452768,\n        \"min\": 2.0,\n        \"max\": 37937.0,\n        \"num_unique_values\": 5533,\n        \"samples\": [\n          3564.0,\n          6955.0,\n          5451.0\n        ],\n        \"semantic_type\": \"\",\n        \"description\": \"\"\n      }\n    },\n    {\n      \"column\": \"total_bedrooms\",\n      \"properties\": {\n        \"dtype\": \"number\",\n        \"std\": 421.49945157986514,\n        \"min\": 1.0,\n        \"max\": 6445.0,\n        \"num_unique_values\": 1848,\n        \"samples\": [\n          729.0,\n          719.0,\n          2075.0\n        ],\n        \"semantic_type\": \"\",\n        \"description\": \"\"\n      }\n    },\n    {\n      \"column\": \"population\",\n      \"properties\": {\n        \"dtype\": \"number\",\n        \"std\": 1147.852959159525,\n        \"min\": 3.0,\n        \"max\": 35682.0,\n        \"num_unique_values\": 3683,\n        \"samples\": [\n          249.0,\n          1735.0,\n          235.0\n        ],\n        \"semantic_type\": \"\",\n        \"description\": \"\"\n      }\n    },\n    {\n      \"column\": \"households\",\n      \"properties\": {\n        \"dtype\": \"number\",\n        \"std\": 384.52084085590013,\n        \"min\": 1.0,\n        \"max\": 6082.0,\n        \"num_unique_values\": 1740,\n        \"samples\": [\n          390.0,\n          1089.0,\n          1351.0\n        ],\n        \"semantic_type\": \"\",\n        \"description\": \"\"\n      }\n    },\n    {\n      \"column\": \"median_income\",\n      \"properties\": {\n        \"dtype\": \"number\",\n        \"std\": 1.908156518379093,\n        \"min\": 0.4999,\n        \"max\": 15.0001,\n        \"num_unique_values\": 11175,\n        \"samples\": [\n          7.2655,\n          5.6293,\n          4.2262\n        ],\n        \"semantic_type\": \"\",\n        \"description\": \"\"\n      }\n    },\n    {\n      \"column\": \"median_house_value\",\n      \"properties\": {\n        \"dtype\": \"number\",\n        \"std\": 115983.76438720913,\n        \"min\": 14999.0,\n        \"max\": 500001.0,\n        \"num_unique_values\": 3694,\n        \"samples\": [\n          162300.0,\n          346800.0,\n          116700.0\n        ],\n        \"semantic_type\": \"\",\n        \"description\": \"\"\n      }\n    }\n  ]\n}",
              "type": "dataframe",
              "variable_name": "df_housing"
            },
            "text/html": [
              "\n",
              "  <div id=\"df-04c071bb-1778-4c7b-a0ad-8ff1339b0067\" class=\"colab-df-container\">\n",
              "    <div>\n",
              "<style scoped>\n",
              "    .dataframe tbody tr th:only-of-type {\n",
              "        vertical-align: middle;\n",
              "    }\n",
              "\n",
              "    .dataframe tbody tr th {\n",
              "        vertical-align: top;\n",
              "    }\n",
              "\n",
              "    .dataframe thead th {\n",
              "        text-align: right;\n",
              "    }\n",
              "</style>\n",
              "<table border=\"1\" class=\"dataframe\">\n",
              "  <thead>\n",
              "    <tr style=\"text-align: right;\">\n",
              "      <th></th>\n",
              "      <th>longitude</th>\n",
              "      <th>latitude</th>\n",
              "      <th>housing_median_age</th>\n",
              "      <th>total_rooms</th>\n",
              "      <th>total_bedrooms</th>\n",
              "      <th>population</th>\n",
              "      <th>households</th>\n",
              "      <th>median_income</th>\n",
              "      <th>median_house_value</th>\n",
              "    </tr>\n",
              "  </thead>\n",
              "  <tbody>\n",
              "    <tr>\n",
              "      <th>0</th>\n",
              "      <td>-114.31</td>\n",
              "      <td>34.19</td>\n",
              "      <td>15.0</td>\n",
              "      <td>5612.0</td>\n",
              "      <td>1283.0</td>\n",
              "      <td>1015.0</td>\n",
              "      <td>472.0</td>\n",
              "      <td>1.4936</td>\n",
              "      <td>66900.0</td>\n",
              "    </tr>\n",
              "    <tr>\n",
              "      <th>1</th>\n",
              "      <td>-114.47</td>\n",
              "      <td>34.40</td>\n",
              "      <td>19.0</td>\n",
              "      <td>7650.0</td>\n",
              "      <td>1901.0</td>\n",
              "      <td>1129.0</td>\n",
              "      <td>463.0</td>\n",
              "      <td>1.8200</td>\n",
              "      <td>80100.0</td>\n",
              "    </tr>\n",
              "    <tr>\n",
              "      <th>2</th>\n",
              "      <td>-114.56</td>\n",
              "      <td>33.69</td>\n",
              "      <td>17.0</td>\n",
              "      <td>720.0</td>\n",
              "      <td>174.0</td>\n",
              "      <td>333.0</td>\n",
              "      <td>117.0</td>\n",
              "      <td>1.6509</td>\n",
              "      <td>85700.0</td>\n",
              "    </tr>\n",
              "    <tr>\n",
              "      <th>3</th>\n",
              "      <td>-114.57</td>\n",
              "      <td>33.64</td>\n",
              "      <td>14.0</td>\n",
              "      <td>1501.0</td>\n",
              "      <td>337.0</td>\n",
              "      <td>515.0</td>\n",
              "      <td>226.0</td>\n",
              "      <td>3.1917</td>\n",
              "      <td>73400.0</td>\n",
              "    </tr>\n",
              "    <tr>\n",
              "      <th>4</th>\n",
              "      <td>-114.57</td>\n",
              "      <td>33.57</td>\n",
              "      <td>20.0</td>\n",
              "      <td>1454.0</td>\n",
              "      <td>326.0</td>\n",
              "      <td>624.0</td>\n",
              "      <td>262.0</td>\n",
              "      <td>1.9250</td>\n",
              "      <td>65500.0</td>\n",
              "    </tr>\n",
              "  </tbody>\n",
              "</table>\n",
              "</div>\n",
              "    <div class=\"colab-df-buttons\">\n",
              "\n",
              "  <div class=\"colab-df-container\">\n",
              "    <button class=\"colab-df-convert\" onclick=\"convertToInteractive('df-04c071bb-1778-4c7b-a0ad-8ff1339b0067')\"\n",
              "            title=\"Convert this dataframe to an interactive table.\"\n",
              "            style=\"display:none;\">\n",
              "\n",
              "  <svg xmlns=\"http://www.w3.org/2000/svg\" height=\"24px\" viewBox=\"0 -960 960 960\">\n",
              "    <path d=\"M120-120v-720h720v720H120Zm60-500h600v-160H180v160Zm220 220h160v-160H400v160Zm0 220h160v-160H400v160ZM180-400h160v-160H180v160Zm440 0h160v-160H620v160ZM180-180h160v-160H180v160Zm440 0h160v-160H620v160Z\"/>\n",
              "  </svg>\n",
              "    </button>\n",
              "\n",
              "  <style>\n",
              "    .colab-df-container {\n",
              "      display:flex;\n",
              "      gap: 12px;\n",
              "    }\n",
              "\n",
              "    .colab-df-convert {\n",
              "      background-color: #E8F0FE;\n",
              "      border: none;\n",
              "      border-radius: 50%;\n",
              "      cursor: pointer;\n",
              "      display: none;\n",
              "      fill: #1967D2;\n",
              "      height: 32px;\n",
              "      padding: 0 0 0 0;\n",
              "      width: 32px;\n",
              "    }\n",
              "\n",
              "    .colab-df-convert:hover {\n",
              "      background-color: #E2EBFA;\n",
              "      box-shadow: 0px 1px 2px rgba(60, 64, 67, 0.3), 0px 1px 3px 1px rgba(60, 64, 67, 0.15);\n",
              "      fill: #174EA6;\n",
              "    }\n",
              "\n",
              "    .colab-df-buttons div {\n",
              "      margin-bottom: 4px;\n",
              "    }\n",
              "\n",
              "    [theme=dark] .colab-df-convert {\n",
              "      background-color: #3B4455;\n",
              "      fill: #D2E3FC;\n",
              "    }\n",
              "\n",
              "    [theme=dark] .colab-df-convert:hover {\n",
              "      background-color: #434B5C;\n",
              "      box-shadow: 0px 1px 3px 1px rgba(0, 0, 0, 0.15);\n",
              "      filter: drop-shadow(0px 1px 2px rgba(0, 0, 0, 0.3));\n",
              "      fill: #FFFFFF;\n",
              "    }\n",
              "  </style>\n",
              "\n",
              "    <script>\n",
              "      const buttonEl =\n",
              "        document.querySelector('#df-04c071bb-1778-4c7b-a0ad-8ff1339b0067 button.colab-df-convert');\n",
              "      buttonEl.style.display =\n",
              "        google.colab.kernel.accessAllowed ? 'block' : 'none';\n",
              "\n",
              "      async function convertToInteractive(key) {\n",
              "        const element = document.querySelector('#df-04c071bb-1778-4c7b-a0ad-8ff1339b0067');\n",
              "        const dataTable =\n",
              "          await google.colab.kernel.invokeFunction('convertToInteractive',\n",
              "                                                    [key], {});\n",
              "        if (!dataTable) return;\n",
              "\n",
              "        const docLinkHtml = 'Like what you see? Visit the ' +\n",
              "          '<a target=\"_blank\" href=https://colab.research.google.com/notebooks/data_table.ipynb>data table notebook</a>'\n",
              "          + ' to learn more about interactive tables.';\n",
              "        element.innerHTML = '';\n",
              "        dataTable['output_type'] = 'display_data';\n",
              "        await google.colab.output.renderOutput(dataTable, element);\n",
              "        const docLink = document.createElement('div');\n",
              "        docLink.innerHTML = docLinkHtml;\n",
              "        element.appendChild(docLink);\n",
              "      }\n",
              "    </script>\n",
              "  </div>\n",
              "\n",
              "\n",
              "    <div id=\"df-fa3c1268-a7d5-4879-8636-15f631e810b5\">\n",
              "      <button class=\"colab-df-quickchart\" onclick=\"quickchart('df-fa3c1268-a7d5-4879-8636-15f631e810b5')\"\n",
              "                title=\"Suggest charts\"\n",
              "                style=\"display:none;\">\n",
              "\n",
              "<svg xmlns=\"http://www.w3.org/2000/svg\" height=\"24px\"viewBox=\"0 0 24 24\"\n",
              "     width=\"24px\">\n",
              "    <g>\n",
              "        <path d=\"M19 3H5c-1.1 0-2 .9-2 2v14c0 1.1.9 2 2 2h14c1.1 0 2-.9 2-2V5c0-1.1-.9-2-2-2zM9 17H7v-7h2v7zm4 0h-2V7h2v10zm4 0h-2v-4h2v4z\"/>\n",
              "    </g>\n",
              "</svg>\n",
              "      </button>\n",
              "\n",
              "<style>\n",
              "  .colab-df-quickchart {\n",
              "      --bg-color: #E8F0FE;\n",
              "      --fill-color: #1967D2;\n",
              "      --hover-bg-color: #E2EBFA;\n",
              "      --hover-fill-color: #174EA6;\n",
              "      --disabled-fill-color: #AAA;\n",
              "      --disabled-bg-color: #DDD;\n",
              "  }\n",
              "\n",
              "  [theme=dark] .colab-df-quickchart {\n",
              "      --bg-color: #3B4455;\n",
              "      --fill-color: #D2E3FC;\n",
              "      --hover-bg-color: #434B5C;\n",
              "      --hover-fill-color: #FFFFFF;\n",
              "      --disabled-bg-color: #3B4455;\n",
              "      --disabled-fill-color: #666;\n",
              "  }\n",
              "\n",
              "  .colab-df-quickchart {\n",
              "    background-color: var(--bg-color);\n",
              "    border: none;\n",
              "    border-radius: 50%;\n",
              "    cursor: pointer;\n",
              "    display: none;\n",
              "    fill: var(--fill-color);\n",
              "    height: 32px;\n",
              "    padding: 0;\n",
              "    width: 32px;\n",
              "  }\n",
              "\n",
              "  .colab-df-quickchart:hover {\n",
              "    background-color: var(--hover-bg-color);\n",
              "    box-shadow: 0 1px 2px rgba(60, 64, 67, 0.3), 0 1px 3px 1px rgba(60, 64, 67, 0.15);\n",
              "    fill: var(--button-hover-fill-color);\n",
              "  }\n",
              "\n",
              "  .colab-df-quickchart-complete:disabled,\n",
              "  .colab-df-quickchart-complete:disabled:hover {\n",
              "    background-color: var(--disabled-bg-color);\n",
              "    fill: var(--disabled-fill-color);\n",
              "    box-shadow: none;\n",
              "  }\n",
              "\n",
              "  .colab-df-spinner {\n",
              "    border: 2px solid var(--fill-color);\n",
              "    border-color: transparent;\n",
              "    border-bottom-color: var(--fill-color);\n",
              "    animation:\n",
              "      spin 1s steps(1) infinite;\n",
              "  }\n",
              "\n",
              "  @keyframes spin {\n",
              "    0% {\n",
              "      border-color: transparent;\n",
              "      border-bottom-color: var(--fill-color);\n",
              "      border-left-color: var(--fill-color);\n",
              "    }\n",
              "    20% {\n",
              "      border-color: transparent;\n",
              "      border-left-color: var(--fill-color);\n",
              "      border-top-color: var(--fill-color);\n",
              "    }\n",
              "    30% {\n",
              "      border-color: transparent;\n",
              "      border-left-color: var(--fill-color);\n",
              "      border-top-color: var(--fill-color);\n",
              "      border-right-color: var(--fill-color);\n",
              "    }\n",
              "    40% {\n",
              "      border-color: transparent;\n",
              "      border-right-color: var(--fill-color);\n",
              "      border-top-color: var(--fill-color);\n",
              "    }\n",
              "    60% {\n",
              "      border-color: transparent;\n",
              "      border-right-color: var(--fill-color);\n",
              "    }\n",
              "    80% {\n",
              "      border-color: transparent;\n",
              "      border-right-color: var(--fill-color);\n",
              "      border-bottom-color: var(--fill-color);\n",
              "    }\n",
              "    90% {\n",
              "      border-color: transparent;\n",
              "      border-bottom-color: var(--fill-color);\n",
              "    }\n",
              "  }\n",
              "</style>\n",
              "\n",
              "      <script>\n",
              "        async function quickchart(key) {\n",
              "          const quickchartButtonEl =\n",
              "            document.querySelector('#' + key + ' button');\n",
              "          quickchartButtonEl.disabled = true;  // To prevent multiple clicks.\n",
              "          quickchartButtonEl.classList.add('colab-df-spinner');\n",
              "          try {\n",
              "            const charts = await google.colab.kernel.invokeFunction(\n",
              "                'suggestCharts', [key], {});\n",
              "          } catch (error) {\n",
              "            console.error('Error during call to suggestCharts:', error);\n",
              "          }\n",
              "          quickchartButtonEl.classList.remove('colab-df-spinner');\n",
              "          quickchartButtonEl.classList.add('colab-df-quickchart-complete');\n",
              "        }\n",
              "        (() => {\n",
              "          let quickchartButtonEl =\n",
              "            document.querySelector('#df-fa3c1268-a7d5-4879-8636-15f631e810b5 button');\n",
              "          quickchartButtonEl.style.display =\n",
              "            google.colab.kernel.accessAllowed ? 'block' : 'none';\n",
              "        })();\n",
              "      </script>\n",
              "    </div>\n",
              "\n",
              "    </div>\n",
              "  </div>\n"
            ],
            "text/plain": [
              "   longitude  latitude  housing_median_age  total_rooms  total_bedrooms  \\\n",
              "0    -114.31     34.19                15.0       5612.0          1283.0   \n",
              "1    -114.47     34.40                19.0       7650.0          1901.0   \n",
              "2    -114.56     33.69                17.0        720.0           174.0   \n",
              "3    -114.57     33.64                14.0       1501.0           337.0   \n",
              "4    -114.57     33.57                20.0       1454.0           326.0   \n",
              "\n",
              "   population  households  median_income  median_house_value  \n",
              "0      1015.0       472.0         1.4936             66900.0  \n",
              "1      1129.0       463.0         1.8200             80100.0  \n",
              "2       333.0       117.0         1.6509             85700.0  \n",
              "3       515.0       226.0         3.1917             73400.0  \n",
              "4       624.0       262.0         1.9250             65500.0  "
            ]
          },
          "execution_count": 99,
          "metadata": {},
          "output_type": "execute_result"
        }
      ],
      "source": [
        "import pandas as pd\n",
        "df_housing = pd.read_csv('california_housing_train.csv')\n",
        "df_housing.head()"
      ]
    },
    {
      "cell_type": "code",
      "execution_count": 4,
      "metadata": {
        "colab": {
          "base_uri": "https://localhost:8080/"
        },
        "id": "vSnhsBQ2TMbF",
        "outputId": "b23289eb-fa30-40d8-acfe-3ad259bd60f7"
      },
      "outputs": [
        {
          "name": "stdout",
          "output_type": "stream",
          "text": [
            "Index(['longitude', 'latitude', 'housing_median_age', 'total_rooms',\n",
            "       'total_bedrooms', 'population', 'households', 'median_income',\n",
            "       'median_house_value'],\n",
            "      dtype='object')\n"
          ]
        }
      ],
      "source": [
        "print(df_housing.columns)"
      ]
    },
    {
      "cell_type": "markdown",
      "metadata": {
        "id": "iJ8OK_s3iVHN"
      },
      "source": [
        "### Exercise: Separate Features (X) and Target (y)\n",
        "\n",
        "**Instructions:**\n",
        "\n",
        "1. Use the California housing dataset loaded in the previous step.\n",
        "2. Define `X` as the feature matrix by removing the target column.\n",
        "3. Define `y` as the target vector. The target column is usually named `median_house_value`.\n",
        "\n",
        "**Expected Output:**\n",
        "\n",
        "- `X` should be a DataFrame containing all columns **except** `median_house_value`.\n",
        "- `y` should be a Series containing only the `median_house_value` column.\n"
      ]
    },
    {
      "cell_type": "code",
      "execution_count": 100,
      "metadata": {
        "id": "yD2hb461TYuP"
      },
      "outputs": [],
      "source": [
        "x = df_housing.drop(columns=[\"median_house_value\"])\n",
        "y = df_housing[\"median_house_value\"]"
      ]
    },
    {
      "cell_type": "markdown",
      "metadata": {
        "id": "M9Ksj8TFixd9"
      },
      "source": [
        "Print the first 5 rows of the x."
      ]
    },
    {
      "cell_type": "code",
      "execution_count": 101,
      "metadata": {
        "colab": {
          "base_uri": "https://localhost:8080/"
        },
        "id": "_PhCI1QyjEKV",
        "outputId": "f6435a72-3097-4871-e861-55653f6afe26"
      },
      "outputs": [
        {
          "name": "stdout",
          "output_type": "stream",
          "text": [
            "   longitude  latitude  housing_median_age  total_rooms  total_bedrooms  \\\n",
            "0    -114.31     34.19                15.0       5612.0          1283.0   \n",
            "1    -114.47     34.40                19.0       7650.0          1901.0   \n",
            "2    -114.56     33.69                17.0        720.0           174.0   \n",
            "3    -114.57     33.64                14.0       1501.0           337.0   \n",
            "4    -114.57     33.57                20.0       1454.0           326.0   \n",
            "\n",
            "   population  households  median_income  \n",
            "0      1015.0       472.0         1.4936  \n",
            "1      1129.0       463.0         1.8200  \n",
            "2       333.0       117.0         1.6509  \n",
            "3       515.0       226.0         3.1917  \n",
            "4       624.0       262.0         1.9250  \n"
          ]
        }
      ],
      "source": [
        "print(x.head())"
      ]
    },
    {
      "cell_type": "markdown",
      "metadata": {
        "id": "iCca3Z2EjCwl"
      },
      "source": [
        "### Exercise: Print the Shape of Feature Matrix X\n",
        "\n",
        "**Instructions:**\n",
        "\n",
        "1. Using the feature matrix `X` defined earlier, print its shape (number of rows and columns).\n",
        "\n",
        "**Expected Output:**\n",
        "\n",
        "- The output should display a tuple showing the dimensions of `X`, for example `(17000, 8)` indicating 17,000 rows and 8 columns.\n"
      ]
    },
    {
      "cell_type": "code",
      "execution_count": 102,
      "metadata": {
        "colab": {
          "base_uri": "https://localhost:8080/"
        },
        "id": "qGkXENicTfBk",
        "outputId": "1db7fd59-0f33-446c-c217-39b94333ab7a"
      },
      "outputs": [
        {
          "data": {
            "text/plain": [
              "(17000, 8)"
            ]
          },
          "execution_count": 102,
          "metadata": {},
          "output_type": "execute_result"
        }
      ],
      "source": [
        "x.shape"
      ]
    },
    {
      "cell_type": "markdown",
      "metadata": {
        "id": "4rcdiu8ejSQd"
      },
      "source": [
        "### Exercise: Split the Dataset into Training and Test Sets\n",
        "\n",
        "**Instructions:**\n",
        "\n",
        "1. Split the dataset into training and test sets.\n",
        "2. Use 20% of the data as the test set.\n",
        "3. Use `train_test_split` from `sklearn.model_selection` for splitting.\n",
        "\n",
        "**Expected Output:**\n",
        "\n",
        "- You should have four variables: `X_train`, `X_test`, `y_train`, and `y_test`.\n",
        "- The test set should contain approximately 20% of the samples.\n"
      ]
    },
    {
      "cell_type": "code",
      "execution_count": 108,
      "metadata": {
        "id": "ZAGrTvKPjT-m"
      },
      "outputs": [],
      "source": [
        "from sklearn.model_selection import train_test_split\n",
        "\n",
        "x_train, x_test, y_train, y_test = train_test_split(x, y, test_size=0.2, random_state=42)"
      ]
    },
    {
      "cell_type": "markdown",
      "metadata": {
        "id": "pe04stn7je19"
      },
      "source": [
        "### Exercise: Define the Device for PyTorch\n",
        "\n",
        "**Instructions:**\n",
        "\n",
        "1. Import `torch` library.\n",
        "2. Define a variable `device` that uses GPU if available, otherwise CPU.\n",
        "3. Print the selected device.\n",
        "\n",
        "**Expected Output:**\n",
        "\n",
        "- The output should show either `cuda` (if GPU is available) or `cpu`.\n",
        "\n"
      ]
    },
    {
      "cell_type": "code",
      "execution_count": 109,
      "metadata": {
        "colab": {
          "base_uri": "https://localhost:8080/",
          "height": 35
        },
        "id": "SAWXhPl-kgPt",
        "outputId": "9ea40896-b7a3-4898-9f99-ad11d1f7d079"
      },
      "outputs": [
        {
          "data": {
            "application/vnd.google.colaboratory.intrinsic+json": {
              "type": "string"
            },
            "text/plain": [
              "'cuda'"
            ]
          },
          "execution_count": 109,
          "metadata": {},
          "output_type": "execute_result"
        }
      ],
      "source": [
        "import torch\n",
        "device = 'cuda' if torch.cuda.is_available() else 'cpu'\n",
        "device"
      ]
    },
    {
      "cell_type": "markdown",
      "metadata": {
        "id": "M-iTKpjQkiYF"
      },
      "source": [
        "### Exercise: Convert Training Data to PyTorch Tensors (with Correct Shape)\n",
        "\n",
        "**Instructions:**\n",
        "\n",
        "1. Convert the training feature matrix `X_train` and the target vector `y_train` to PyTorch tensors.\n",
        "2. Ensure that `X_train_tensor` has data type `float32` and shape `(n_samples, n_features)`.\n",
        "3. Ensure that `y_train_tensor` has shape `(n_samples, 1)` (i.e., two-dimensional).\n",
        "4. Move both tensors to the appropriate `device` (CPU or GPU).\n",
        "\n",
        "**Expected Output:**\n",
        "\n",
        "- `X_train_tensor`: a 2D tensor of shape `[number_of_samples, number_of_features]`.\n",
        "- `y_train_tensor`: a 2D tensor of shape `[number_of_samples, 1]`.\n"
      ]
    },
    {
      "cell_type": "code",
      "execution_count": 110,
      "metadata": {
        "colab": {
          "base_uri": "https://localhost:8080/"
        },
        "id": "vVWAYiZok03-",
        "outputId": "51812d38-c3f2-4c2c-fb0e-fa96cf285330"
      },
      "outputs": [
        {
          "data": {
            "text/plain": [
              "(tensor([[-1.1807e+02,  3.3810e+01,  2.2000e+01,  ...,  1.3050e+03,\n",
              "           3.6800e+02,  8.5407e+00],\n",
              "         [-1.1763e+02,  3.3500e+01,  1.2000e+01,  ...,  1.5060e+03,\n",
              "           4.9200e+02,  7.2013e+00],\n",
              "         [-1.1709e+02,  3.2570e+01,  1.7000e+01,  ...,  3.5700e+02,\n",
              "           8.7000e+01,  5.1478e+00],\n",
              "         ...,\n",
              "         [-1.1815e+02,  3.3910e+01,  3.8000e+01,  ...,  7.6000e+02,\n",
              "           2.0800e+02,  2.9643e+00],\n",
              "         [-1.1707e+02,  3.2560e+01,  9.0000e+00,  ...,  3.2930e+03,\n",
              "           8.4000e+02,  3.0992e+00],\n",
              "         [-1.2241e+02,  3.7750e+01,  5.2000e+01,  ...,  1.9320e+03,\n",
              "           5.4900e+02,  2.3903e+00]], device='cuda:0'),\n",
              " tensor([[398800.],\n",
              "         [353600.],\n",
              "         [138900.],\n",
              "         ...,\n",
              "         [147400.],\n",
              "         [142600.],\n",
              "         [236100.]], device='cuda:0'))"
            ]
          },
          "execution_count": 110,
          "metadata": {},
          "output_type": "execute_result"
        }
      ],
      "source": [
        "x_train_tensor = torch.tensor(x_train.values, dtype = torch.float32, device = device)\n",
        "y_train_tensor = torch.tensor(y_train.values, dtype = torch.float32, device = device).view(-1, 1)\n",
        "x_train_tensor , y_train_tensor\n",
        "\n",
        "x_train_tensor, y_train_tensor"
      ]
    },
    {
      "cell_type": "markdown",
      "metadata": {
        "id": "NQBhWPnMk-S-"
      },
      "source": [
        "### Exercise: Build a Neural Network Model with 3 Layers\n",
        "\n",
        "**Instructions:**\n",
        "\n",
        "1. Build a PyTorch neural network model.\n",
        "2. The architecture should include 3 layers:\n",
        "   - First layer: 5 neurons with ReLU activation\n",
        "   - Second layer: 3 neurons with ReLU activation\n",
        "   - Final layer: 1 neuron (no activation function)\n",
        "3. Do **not** apply any activation function to the output layer.\n",
        "\n",
        "**Expected Output:**\n",
        "\n",
        "- A model object containing 3 layers.\n",
        "- The output of the model should be a single continuous value suitable for regression.\n"
      ]
    },
    {
      "cell_type": "code",
      "execution_count": 111,
      "metadata": {
        "colab": {
          "base_uri": "https://localhost:8080/"
        },
        "id": "jF2jnvQtYEwE",
        "outputId": "47ade3fb-1c1c-4f0f-cb5b-761db20eb315"
      },
      "outputs": [
        {
          "data": {
            "text/plain": [
              "ManualRegression(\n",
              "  (fc1): Linear(in_features=8, out_features=5, bias=True)\n",
              "  (fc2): Linear(in_features=5, out_features=3, bias=True)\n",
              "  (fc3): Linear(in_features=3, out_features=1, bias=True)\n",
              "  (relu): ReLU()\n",
              ")"
            ]
          },
          "execution_count": 111,
          "metadata": {},
          "output_type": "execute_result"
        }
      ],
      "source": [
        "import torch\n",
        "import torch.nn as nn\n",
        "\n",
        "class ManualRegression (nn.Module):\n",
        "    def __init__(self):\n",
        "        super().__init__()\n",
        "        self.fc1 = nn.Linear(x_train_tensor.shape[1], 5)\n",
        "        self.fc2 = nn.Linear(5, 3)\n",
        "        self.fc3 = nn.Linear(3, 1)\n",
        "\n",
        "        self.relu = nn.ReLU()\n",
        "\n",
        "    def forward(self, x):\n",
        "        x = self.relu(self.fc1(x))\n",
        "        x = self.relu(self.fc2(x))\n",
        "        x = self.fc3(x)\n",
        "        return x\n",
        "\n",
        "model = ManualRegression().to(device)\n",
        "model\n"
      ]
    },
    {
      "cell_type": "markdown",
      "metadata": {
        "id": "_MF7W0icpqOe"
      },
      "source": [
        "### Exercise: Implement the Training Loop and Train the Model\n",
        "\n",
        "**Instructions:**\n",
        "\n",
        "1. Write a training loop to train the model for **500 epochs**.\n",
        "2. Use **Mean Squared Error (MSE)** as the loss function.\n",
        "3. Use an optimizer such as **SGD**.\n",
        "4. In each epoch:\n",
        "   - Perform a forward pass.\n",
        "   - Compute the loss.\n",
        "   - Perform a backward pass.\n",
        "   - Update the model parameters.\n",
        "5. Print the loss every 50 epochs to monitor training progress.\n",
        "\n",
        "**Expected Output:**\n",
        "\n",
        "- The model should train for 500 epochs.\n",
        "- You should see printed loss values at regular intervals (e.g., every 50 epochs).\n",
        "- The loss should generally decrease over time if the model is learning properly.\n"
      ]
    },
    {
      "cell_type": "code",
      "execution_count": 112,
      "metadata": {
        "colab": {
          "base_uri": "https://localhost:8080/"
        },
        "id": "3O3NMMhnY-QU",
        "outputId": "e274a723-f201-4b51-81bc-0beee2b2c120"
      },
      "outputs": [
        {
          "name": "stdout",
          "output_type": "stream",
          "text": [
            "Epoch 0, Loss: 56084492288.0000\n",
            "Epoch 50, Loss: nan\n",
            "Epoch 100, Loss: nan\n",
            "Epoch 150, Loss: nan\n",
            "Epoch 200, Loss: nan\n",
            "Epoch 250, Loss: nan\n",
            "Epoch 300, Loss: nan\n",
            "Epoch 350, Loss: nan\n",
            "Epoch 400, Loss: nan\n",
            "Epoch 450, Loss: nan\n",
            "Epoch 500, Loss: nan\n"
          ]
        }
      ],
      "source": [
        "from torch import optim\n",
        "from sklearn.preprocessing import StandardScaler\n",
        "\n",
        "loss_fn = nn.MSELoss()\n",
        "lr = .01\n",
        "optimizer = optim.SGD(model.parameters(), lr = lr)\n",
        "losses = []\n",
        "epoch = 500\n",
        "\n",
        "for _ in range(epoch + 1):\n",
        "  model.train()\n",
        "  optimizer.zero_grad()\n",
        "  y_pred = model(x_train_tensor)\n",
        "  loss = loss_fn(y_pred, y_train_tensor)\n",
        "  loss.backward()\n",
        "  optimizer.step()\n",
        "  losses.append(loss.detach().cpu().item())\n",
        "\n",
        "  if _ % 50 == 0:\n",
        "      print(f\"Epoch {_}, Loss: {loss.item():.4f}\")"
      ]
    },
    {
      "cell_type": "markdown",
      "metadata": {
        "id": "91f9amRzqsNu"
      },
      "source": [
        "### Exercise: Analyze the Training Behavior\n",
        "\n",
        "**Instructions:**\n",
        "\n",
        "After training the model for 500 epochs, observe the printed loss values over time.\n",
        "\n",
        "You are expected to see a decreasing trend in the loss, indicating that the model is learning and updating its parameters correctly.\n",
        "\n",
        "However, you might notice that:\n",
        "\n",
        "- The loss is **not decreasing significantly**, or\n",
        "- The loss remains **almost constant**, or\n",
        "- The loss shows **unexpected fluctuations**.\n",
        "\n",
        "This suggests that **learning may not be happening as expected**, even though the training loop and model definition seem correct.\n",
        "\n",
        "**Question:**\n",
        "\n",
        "What could be the reasons for the model not learning properly?\n",
        "\n",
        "- The code logic appears to be correct.\n",
        "- The model runs without errors.\n",
        "- The loss function and optimizer are standard.\n",
        "\n",
        "**Hint:** Think about the nature and scale of the input data. Neural networks are sensitive to the scale of input features. You may consider whether data **normalization or standardization** is necessary before feeding inputs into the model.\n",
        "\n",
        "Discuss what might be going wrong and how you would investigate or fix it.\n"
      ]
    },
    {
      "cell_type": "code",
      "execution_count": 113,
      "metadata": {
        "colab": {
          "base_uri": "https://localhost:8080/"
        },
        "id": "Wk8dPrl9sHD2",
        "outputId": "a279d4f5-3090-4f57-effb-4812247e4dcd"
      },
      "outputs": [
        {
          "name": "stdout",
          "output_type": "stream",
          "text": [
            "Epoch 0, Loss: 1.1545\n",
            "Epoch 50, Loss: 0.9754\n",
            "Epoch 100, Loss: 0.8927\n",
            "Epoch 150, Loss: 0.7705\n",
            "Epoch 200, Loss: 0.6183\n",
            "Epoch 250, Loss: 0.5377\n",
            "Epoch 300, Loss: 0.5051\n",
            "Epoch 350, Loss: 0.4862\n",
            "Epoch 400, Loss: 0.4718\n",
            "Epoch 450, Loss: 0.4596\n",
            "Epoch 500, Loss: 0.4485\n"
          ]
        }
      ],
      "source": [
        "import torch\n",
        "import torch.nn as nn\n",
        "from torch import optim\n",
        "from sklearn.preprocessing import StandardScaler\n",
        "\n",
        "scaler_X = StandardScaler()\n",
        "scaler_y = StandardScaler()\n",
        "\n",
        "x_train_scaled = scaler_X.fit_transform(x_train)\n",
        "y_train_scaled = scaler_y.fit_transform(y_train.values.reshape(-1, 1))\n",
        "\n",
        "x_train_tensor = torch.tensor(x_train_scaled, dtype = torch.float32, device = device)\n",
        "y_train_tensor = torch.tensor(y_train_scaled, dtype = torch.float32, device = device)\n",
        "\n",
        "class ManualRegression (nn.Module):\n",
        "    def __init__(self):\n",
        "        super().__init__()\n",
        "        self.fc1 = nn.Linear(x_train_tensor.shape[1], 5)\n",
        "        self.fc2 = nn.Linear(5, 3)\n",
        "        self.fc3 = nn.Linear(3, 1)\n",
        "\n",
        "        self.relu = nn.ReLU()\n",
        "\n",
        "    def forward(self, x):\n",
        "        x = self.relu(self.fc1(x))\n",
        "        x = self.relu(self.fc2(x))\n",
        "        x = self.fc3(x)\n",
        "        return x\n",
        "\n",
        "model = ManualRegression().to(device)\n",
        "\n",
        "loss_fn = nn.MSELoss()\n",
        "lr = .01\n",
        "optimizer = optim.SGD(model.parameters(), lr = lr)\n",
        "losses = []\n",
        "epoch = 500\n",
        "\n",
        "for _ in range(epoch + 1):\n",
        "  model.train()\n",
        "  optimizer.zero_grad()\n",
        "  y_pred = model(x_train_tensor)\n",
        "  loss = loss_fn(y_pred, y_train_tensor)\n",
        "  loss.backward()\n",
        "  optimizer.step()\n",
        "  losses.append(loss.detach().cpu().item())\n",
        "\n",
        "  if _ % 50 == 0:\n",
        "      print(f\"Epoch {_}, Loss: {loss.item():.4f}\")\n"
      ]
    },
    {
      "cell_type": "markdown",
      "metadata": {
        "id": "y358DlWasILO"
      },
      "source": [
        "### Exercise: Manually Normalize Input Features and Target (Without sklearn)\n",
        "\n",
        "**Instructions:**\n",
        "\n",
        "In regression problems, it's important to normalize both the **input features (`X`)** and the **target (`y`)** to improve the stability and efficiency of training.\n",
        "\n",
        "You will perform **standard normalization** (zero mean and unit variance) **manually**, without using any external library such as `sklearn`.\n",
        "\n",
        "---\n",
        "\n",
        "#### 🔹 Normalization Formula:\n",
        "\n",
        "For each column (feature or target), apply:\n",
        "\n",
        "$$\n",
        "x_{\\text{normalized}} = \\frac{x - \\mu}{\\sigma}\n",
        "$$\n",
        "\n",
        "where:\n",
        "\n",
        "- \\( x \\): original value  \n",
        "- \\( \\mu \\): mean of the column (computed from `X_train` or `y_train`)  \n",
        "- \\( \\sigma \\): standard deviation of the column (computed from `X_train` or `y_train`)  \n",
        "\n",
        "---\n",
        "\n",
        "#### 🔹 Your Tasks:\n",
        "\n",
        "1. Compute the mean and standard deviation of each feature column in `X_train`.\n",
        "2. Normalize `X_train` using these values.\n",
        "3. Normalize `X_test` using the **same** mean and std from `X_train`.\n",
        "4. Compute the mean and std of `y_train`, then normalize it.\n",
        "5. Apply the same transformation to `y_test`.\n",
        "6. After normalization, convert all the data to PyTorch tensors and move them to the appropriate `device`.\n",
        "\n",
        "---\n",
        "\n",
        "#### ⚠️ Notes:\n",
        "\n",
        "- Do **not** use `sklearn.preprocessing.StandardScaler` or any similar library.\n",
        "- Normalization must be done **before converting the data to PyTorch tensors**.\n",
        "- Keep track of the mean and std values for `y` — they will be needed later to **de-normalize predictions** (e.g., for evaluation or visualization).\n",
        "- Without proper normalization, the model may fail to learn effectively, especially if feature scales differ significantly.\n",
        "\n",
        "---\n",
        "\n",
        "**Expected Output:**\n",
        "\n",
        "- Each column in `X_train` should have a mean close to 0 and standard deviation close to 1.\n",
        "- The same applies to `y_train`.\n",
        "- `X_test` and `y_test` should be transformed using `X_train` and `y_train` statistics.\n",
        "- Model training loss should now decrease more consistently compared to training without normalization.\n",
        "\n"
      ]
    },
    {
      "cell_type": "code",
      "execution_count": 126,
      "metadata": {
        "colab": {
          "base_uri": "https://localhost:8080/"
        },
        "id": "7kdS0YGOt32u",
        "outputId": "8e17f641-f352-4e4a-c563-35c51669c631"
      },
      "outputs": [
        {
          "name": "stdout",
          "output_type": "stream",
          "text": [
            "x_train normalized means:\n",
            "longitude            -8.307081e-16\n",
            "latitude              2.246569e-16\n",
            "housing_median_age    1.358391e-17\n",
            "total_rooms           5.956020e-17\n",
            "total_bedrooms       -5.799283e-17\n",
            "population            6.582969e-17\n",
            "households            4.702121e-18\n",
            "median_income        -6.086634e-17\n",
            "dtype: float64\n",
            "\n",
            "X_train normalized stds:\n",
            "longitude             1.0\n",
            "latitude              1.0\n",
            "housing_median_age    1.0\n",
            "total_rooms           1.0\n",
            "total_bedrooms        1.0\n",
            "population            1.0\n",
            "households            1.0\n",
            "median_income         1.0\n",
            "dtype: float64\n",
            "\n",
            "y_train normalized mean:\n",
            "-5.329070518200751e-17\n",
            "\n",
            "y_train normalized std:\n",
            "0.9999999999999888\n"
          ]
        }
      ],
      "source": [
        "import torch\n",
        "\n",
        "# normalize x_train & x_test\n",
        "x_train_mean = x_train.mean()\n",
        "x_train_std = x_train.std()\n",
        "x_train_norm = (x_train - x_train_mean) / x_train_std\n",
        "x_test_norm = (x_test - x_train_mean) / x_train_std\n",
        "\n",
        "# normalize y_train & y_test\n",
        "y_train_mean = y_train.mean()\n",
        "y_train_std = y_train.std()\n",
        "y_train_norm = (y_train - y_train_mean) / y_train_std\n",
        "y_test_norm = (y_test - y_train_mean) / y_train_std\n",
        "\n",
        "\n",
        "# convert to PyTorch tensors and move to device\n",
        "x_train_tensor = torch.tensor(x_train_norm.values, dtype = torch.float32, device = device)\n",
        "x_test_tensor = torch.tensor(x_test_norm.values, dtype = torch.float32, device = device)\n",
        "\n",
        "y_train_tensor = torch.tensor(y_train_norm.values, dtype = torch.float32, device = device).view(-1, 1)\n",
        "y_test_tensor = torch.tensor(y_test_norm.values, dtype = torch.float32, device = device).view(-1, 1)\n",
        "\n",
        "\n",
        "# check std and mean values of x_train\n",
        "print(\"x_train normalized means:\")\n",
        "print(x_train_norm.mean())\n",
        "print(\"\\nX_train normalized stds:\")\n",
        "print(x_train_norm.std())\n",
        "\n",
        "# check std and mean values of y_train\n",
        "print(\"\\ny_train normalized mean:\")\n",
        "print(y_train_norm.mean())\n",
        "print(\"\\ny_train normalized std:\")\n",
        "print(y_train_norm.std())"
      ]
    },
    {
      "cell_type": "markdown",
      "metadata": {
        "id": "rUOTvkg8t4eO"
      },
      "source": [
        "### Exercise: Convert Normalized Data to Tensors, Train the Model, and Plot Loss\n",
        "\n",
        "**Instructions:**\n",
        "\n",
        "1. Convert the normalized `X_train`, `X_test`, `y_train`, and `y_test` data to PyTorch tensors.\n",
        "2. Move the tensors to the appropriate device (CPU or GPU).\n",
        "3. Train the model using the normalized training data.\n",
        "4. During training, record the loss value for each epoch.\n",
        "5. After training, plot the training loss curve over all epochs to visualize the learning progress.\n",
        "6. Analyze the plot to confirm that the loss decreases smoothly over time, indicating successful training.\n",
        "\n",
        "**Expected Output:**\n",
        "\n",
        "- Tensors for all datasets on the correct device.\n",
        "- A training loss plot showing a generally decreasing trend.\n",
        "- Confirmation that normalization helped stabilize and improve training.\n"
      ]
    },
    {
      "cell_type": "code",
      "execution_count": 131,
      "metadata": {
        "colab": {
          "base_uri": "https://localhost:8080/"
        },
        "id": "Of4T70CIuJf1",
        "outputId": "adeae4f8-42fb-4348-df2e-e9c0585468d2"
      },
      "outputs": [
        {
          "name": "stdout",
          "output_type": "stream",
          "text": [
            "Epoch 0, Loss: 1.1508\n",
            "Epoch 50, Loss: 1.0222\n",
            "Epoch 100, Loss: 1.0032\n",
            "Epoch 150, Loss: 0.9938\n",
            "Epoch 200, Loss: 0.9817\n",
            "Epoch 250, Loss: 0.9594\n",
            "Epoch 300, Loss: 0.9142\n",
            "Epoch 350, Loss: 0.8268\n",
            "Epoch 400, Loss: 0.6968\n",
            "Epoch 450, Loss: 0.5860\n",
            "Epoch 500, Loss: 0.5285\n"
          ]
        }
      ],
      "source": [
        "import pandas as pd\n",
        "import torch\n",
        "import torch.nn as nn\n",
        "from torch import optim\n",
        "import matplotlib.pyplot as plt\n",
        "\n",
        "df_housing = pd.read_csv('california_housing_train.csv')\n",
        "x = df_housing.drop(columns=['median_house_value'])\n",
        "y = df_housing['median_house_value']\n",
        "\n",
        "from sklearn.model_selection import train_test_split\n",
        "x_train, x_test, y_train, y_test = train_test_split(x, y, test_size=0.2, random_state=42)\n",
        "\n",
        "x_train_mean = x_train.mean()\n",
        "x_train_std = x_train.std()\n",
        "x_train_norm = (x_train - x_train_mean) / x_train_std\n",
        "x_test_norm = (x_test - x_train_mean) / x_train_std\n",
        "\n",
        "y_train_mean = y_train.mean()\n",
        "y_train_std = y_train.std()\n",
        "y_train_norm = (y_train - y_train_mean) / y_train_std\n",
        "y_test_norm = (y_test - y_train_mean) / y_train_std\n",
        "\n",
        "\n",
        "device = 'cuda' if torch.cuda.is_available() else 'cpu'\n",
        "\n",
        "X_train_tensor = torch.tensor(x_train_norm.values, dtype = torch.float32, device = device)\n",
        "X_test_tensor = torch.tensor(x_test_norm.values, dtype = torch.float32, device = device)\n",
        "y_train_tensor = torch.tensor(y_train_norm.values, dtype = torch.float32, device = device).view(-1, 1)\n",
        "y_test_tensor = torch.tensor(y_test_norm.values, dtype = torch.float32, device = device).view(-1, 1)\n",
        "\n",
        "class ManualRegression(nn.Module):\n",
        "    def __init__(self, input_dim):\n",
        "        super().__init__()\n",
        "        self.fc1 = nn.Linear(input_dim, 5)\n",
        "        self.fc2 = nn.Linear(5, 3)\n",
        "        self.fc3 = nn.Linear(3, 1)\n",
        "        self.relu = nn.ReLU()\n",
        "\n",
        "    def forward(self, x):\n",
        "        x = self.relu(self.fc1(x))\n",
        "        x = self.relu(self.fc2(x))\n",
        "        x = self.fc3(x)\n",
        "        return x\n",
        "\n",
        "model = ManualRegression(X_train_tensor.shape[1]).to(device)\n",
        "\n",
        "lr = 0.01\n",
        "epoch = 500\n",
        "loss_fn = nn.MSELoss()\n",
        "optimizer = optim.SGD(model.parameters(), lr = lr)\n",
        "losses = []\n",
        "\n",
        "for _ in range(epoch + 1):\n",
        "    model.train()\n",
        "    optimizer.zero_grad()\n",
        "    y_pred = model(X_train_tensor)\n",
        "    loss = loss_fn(y_pred, y_train_tensor)\n",
        "    loss.backward()\n",
        "    optimizer.step()\n",
        "    losses.append(loss.item())\n",
        "\n",
        "    if _ % 50 == 0:\n",
        "        print(f\"Epoch {_}, Loss: {loss.item():.4f}\")"
      ]
    },
    {
      "cell_type": "code",
      "execution_count": 132,
      "metadata": {
        "colab": {
          "base_uri": "https://localhost:8080/",
          "height": 472
        },
        "id": "t9jUbO6buVev",
        "outputId": "81d4c2ca-007c-4e90-9d6f-1c65fb4c8561"
      },
      "outputs": [
        {
          "data": {
            "image/png": "[encoded data removed]",
            "text/plain": [
              "<Figure size 640x480 with 1 Axes>"
            ]
          },
          "metadata": {},
          "output_type": "display_data"
        }
      ],
      "source": [
        "plt.figure()\n",
        "plt.plot(losses, label='Training Loss')\n",
        "plt.xlabel('Epoch')\n",
        "plt.ylabel('MSE Loss')\n",
        "plt.title('Training Loss Curve')\n",
        "plt.legend()\n",
        "plt.show()"
      ]
    },
    {
      "cell_type": "markdown",
      "metadata": {
        "id": "tUlrwIKcuV3u"
      },
      "source": [
        "### Exercise: Increase Model Complexity and Experiment with Learning Rates\n",
        "\n",
        "**Instructions:**\n",
        "\n",
        "1. Modify your neural network model to make it more complex by:\n",
        "   - Increasing the number of layers (e.g., 4 or 5 layers).\n",
        "   - Increasing the number of neurons in each layer (e.g., 64, 32, 16, 8, 1).\n",
        "   - Use ReLU activation in all layers except the last.\n",
        "2. Train the model with **different learning rates** (e.g., 0.01, 0.001, 0.0001).\n",
        "3. For each learning rate:\n",
        "   - Train the model for the same number of epochs.\n",
        "   - Record the training loss over epochs.\n",
        "4. Compare and analyze the results to determine how learning rate affects the training process and final performance.\n",
        "5. Optionally, plot the training loss curves for different learning rates on the same graph for better comparison.\n",
        "\n",
        "**Expected Output:**\n",
        "\n",
        "- Multiple trained models with varying learning rates.\n",
        "- Training loss plots showing how different learning rates impact convergence speed and stability.\n",
        "- An analysis explaining which learning rate works best and why.\n"
      ]
    },
    {
      "cell_type": "code",
      "execution_count": null,
      "metadata": {
        "colab": {
          "base_uri": "https://localhost:8080/",
          "height": 472
        },
        "id": "sl65MzwDZsY_",
        "outputId": "b37277e3-3128-493f-874b-644a46fd75f1"
      },
      "outputs": [
        {
          "data": {
            "image/png": "[encoded data removed]",
            "text/plain": [
              "<Figure size 640x480 with 1 Axes>"
            ]
          },
          "metadata": {},
          "output_type": "display_data"
        }
      ],
      "source": [
        "import torch\n",
        "import torch.nn as nn\n",
        "import torch.optim as optim\n",
        "import pandas as pd\n",
        "import matplotlib.pyplot as plt\n",
        "from sklearn.model_selection import train_test_split\n",
        "\n",
        "device = torch.device(\"cuda\" if torch.cuda.is_available() else \"cpu\")\n",
        "\n",
        "df = pd.read_csv('california_housing_train.csv')\n",
        "x = df.drop(columns=['median_house_value'])\n",
        "y = df['median_house_value']\n",
        "\n",
        "x_train, x_test, y_train, y_test = train_test_split(x, y, test_size = 0.2, random_state = 42)\n",
        "\n",
        "x_mean = x_train.mean()\n",
        "x_std = x_train.std()\n",
        "x_train_norm = (x_train - x_mean) / x_std\n",
        "x_test_norm = (x_test - x_mean) / x_std\n",
        "\n",
        "y_mean = y_train.mean()\n",
        "y_std = y_train.std()\n",
        "y_train_norm = (y_train - y_mean) / y_std\n",
        "y_test_norm = (y_test - y_mean) / y_std\n",
        "\n",
        "X_train_tensor = torch.tensor(x_train_norm.values, dtype = torch.float32, device = device)\n",
        "y_train_tensor = torch.tensor(y_train_norm.values.reshape(-1,1), dtype = torch.float32, device = device)\n",
        "X_test_tensor = torch.tensor(x_test_norm.values, dtype = torch.float32, device = device)\n",
        "y_test_tensor = torch.tensor(y_test_norm.values.reshape(-1,1), dtype = torch.float32, device = device)\n",
        "\n",
        "\n",
        "class ManualRegression(nn.Module):\n",
        "    def __init__(self, input_dim):\n",
        "        super().__init__()\n",
        "        self.model = nn.Sequential(\n",
        "            nn.Linear(input_dim, 64),\n",
        "            nn.ReLU(),\n",
        "            nn.Linear(64, 32),\n",
        "            nn.ReLU(),\n",
        "            nn.Linear(32, 16),\n",
        "            nn.ReLU(),\n",
        "            nn.Linear(16, 8),\n",
        "            nn.ReLU(),\n",
        "            nn.Linear(8, 1))\n",
        "\n",
        "    def forward(self, x):\n",
        "        return self.model(x)\n",
        "\n",
        "learning_rates = [0.01, 0.001, 0.0001]\n",
        "all_losses = {}\n",
        "\n",
        "for lr in learning_rates:\n",
        "    model = ManualRegression(X_train_tensor.shape[1]).to(device)\n",
        "    optimizer = optim.SGD(model.parameters(), lr = lr)\n",
        "    loss_fn = nn.MSELoss()\n",
        "    losses = []\n",
        "\n",
        "    for _ in range(epoch + 1):\n",
        "        model.train()\n",
        "        optimizer.zero_grad()\n",
        "        y_pred = model(X_train_tensor)\n",
        "        loss = loss_fn(y_pred, y_train_tensor)\n",
        "        loss.backward()\n",
        "        optimizer.step()\n",
        "        losses.append(loss.item())\n",
        "    all_losses[lr] = losses\n",
        "\n",
        "\n",
        "plt.figure()\n",
        "for lr, losses in all_losses.items():\n",
        "    plt.plot(losses, label = f\"lr = {lr}\")\n",
        "plt.xlabel(\"Epochs\")\n",
        "plt.ylabel(\"Training Loss (MSE)\")\n",
        "plt.title(\"Training Loss Curves for Different Learning Rates\")\n",
        "plt.legend()\n",
        "plt.show()\n"
      ]
    }
  ],
  "metadata": {
    "accelerator": "GPU",
    "colab": {
      "gpuType": "T4",
      "provenance": []
    },
    "kernelspec": {
      "display_name": "Python 3",
      "name": "python3"
    },
    "language_info": {
      "codemirror_mode": {
        "name": "ipython",
        "version": 3
      },
      "file_extension": ".py",
      "mimetype": "text/x-python",
      "name": "python",
      "nbconvert_exporter": "python",
      "pygments_lexer": "ipython3",
      "version": "3.10.6"
    }
  },
  "nbformat": 4,
  "nbformat_minor": 0
}
